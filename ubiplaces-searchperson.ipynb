{
 "cells": [
  {
   "cell_type": "markdown",
   "metadata": {},
   "source": [
    "# Exploring Ubiplaces API on /t/searchperson endpoint"
   ]
  },
  {
   "cell_type": "markdown",
   "metadata": {},
   "source": [
    "### Request access and get 200 (ok) status code"
   ]
  },
  {
   "cell_type": "code",
   "execution_count": 1,
   "metadata": {
    "collapsed": false
   },
   "outputs": [
    {
     "data": {
      "text/plain": [
       "200"
      ]
     },
     "execution_count": 1,
     "metadata": {},
     "output_type": "execute_result"
    }
   ],
   "source": [
    "import requests\n",
    "\n",
    "payload={\"name\":\"Jader Martins\"}\n",
    "response = requests.post(\"https://dev.api.ubiplaces.com.br/t/searchperson\", json=payload)\n",
    "response.status_code"
   ]
  },
  {
   "cell_type": "markdown",
   "metadata": {},
   "source": [
    "### Show the first 2 dictionaries on list_of_servidores list"
   ]
  },
  {
   "cell_type": "code",
   "execution_count": 2,
   "metadata": {
    "collapsed": false
   },
   "outputs": [
    {
     "name": "stdout",
     "output_type": "stream",
     "text": [
      "6 resultados\n"
     ]
    },
    {
     "data": {
      "text/plain": [
       "[{'basic_data': 'BANCO CENTRAL DO BRASIL  ',\n",
       "  'cpf': '***.620.430-** ',\n",
       "  'entity': 'BANCO CENTRAL DO BRASIL  ',\n",
       "  'gain': 'unavailable (multi-options)',\n",
       "  'idx': 1,\n",
       "  'name': 'jader martins ',\n",
       "  'type': 'multi'},\n",
       " {'basic_data': 'COMANDO DO EXERCITO',\n",
       "  'cpf': '***.835.020-** ',\n",
       "  'entity': 'COMANDO DO EXERCITO',\n",
       "  'gain': 'unavailable (multi-options)',\n",
       "  'idx': 2,\n",
       "  'name': 'jader martins dos santos ',\n",
       "  'type': 'multi'}]"
      ]
     },
     "execution_count": 2,
     "metadata": {},
     "output_type": "execute_result"
    }
   ],
   "source": [
    "response_json = response.json()\n",
    "list_of_servidores = response_json['results']\n",
    "qt_of_servidores = response_json['qt']\n",
    "print(str(qt_of_servidores) + \" resultados\")\n",
    "list_of_servidores[:2]"
   ]
  },
  {
   "cell_type": "markdown",
   "metadata": {},
   "source": [
    "### Show all matches"
   ]
  },
  {
   "cell_type": "code",
   "execution_count": 3,
   "metadata": {
    "collapsed": false
   },
   "outputs": [
    {
     "name": "stdout",
     "output_type": "stream",
     "text": [
      "6 resultados:\n",
      "\n",
      "gain: unavailable (multi-options)\n",
      "idx: 1\n",
      "name: jader martins \n",
      "basic_data: BANCO CENTRAL DO BRASIL  \n",
      "cpf: ***.620.430-** \n",
      "entity: BANCO CENTRAL DO BRASIL  \n",
      "type: multi\n",
      "--------------------\n",
      "gain: unavailable (multi-options)\n",
      "idx: 2\n",
      "name: jader martins dos santos \n",
      "basic_data: COMANDO DO EXERCITO\n",
      "cpf: ***.835.020-** \n",
      "entity: COMANDO DO EXERCITO\n",
      "type: multi\n",
      "--------------------\n",
      "gain: unavailable (multi-options)\n",
      "idx: 3\n",
      "name: jader martins dos santos \n",
      "basic_data: COMANDO DO EXERCITO\n",
      "cpf: ***.868.687-** \n",
      "entity: COMANDO DO EXERCITO\n",
      "type: multi\n",
      "--------------------\n",
      "gain: unavailable (multi-options)\n",
      "idx: 4\n",
      "name: jader martins rodrigues junior\n",
      "basic_data: UNIVERSIDADE FEDERAL DO CEARA  \n",
      "cpf: ***.292.193-** \n",
      "entity: UNIVERSIDADE FEDERAL DO CEARA  \n",
      "type: multi\n",
      "--------------------\n",
      "gain: unavailable (multi-options)\n",
      "idx: 5\n",
      "name: jaderson da silva martins \n",
      "basic_data: COMANDO DO EXERCITO\n",
      "cpf: ***.452.950-** \n",
      "entity: COMANDO DO EXERCITO\n",
      "type: multi\n",
      "--------------------\n",
      "gain: unavailable (multi-options)\n",
      "idx: 6\n",
      "name: jaderson martins oliveira \n",
      "basic_data: COMANDO DO EXERCITO\n",
      "cpf: ***.572.540-** \n",
      "entity: COMANDO DO EXERCITO\n",
      "type: multi\n",
      "--------------------\n"
     ]
    }
   ],
   "source": [
    "print(str(qt_of_servidores) + \" resultados:\\n\")\n",
    "for i in list_of_servidores:\n",
    "  \tfor k, v in i.items():\n",
    "  \t\tprint(str(k) + ': ' + str(v))\n",
    "  \tprint('--------------------')"
   ]
  },
  {
   "cell_type": "code",
   "execution_count": null,
   "metadata": {
    "collapsed": true
   },
   "outputs": [],
   "source": []
  }
 ],
 "metadata": {
  "kernelspec": {
   "display_name": "Python [default]",
   "language": "python",
   "name": "python3"
  },
  "language_info": {
   "codemirror_mode": {
    "name": "ipython",
    "version": 3
   },
   "file_extension": ".py",
   "mimetype": "text/x-python",
   "name": "python",
   "nbconvert_exporter": "python",
   "pygments_lexer": "ipython3",
   "version": "3.5.2"
  }
 },
 "nbformat": 4,
 "nbformat_minor": 1
}
